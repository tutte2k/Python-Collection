{
 "cells": [
  {
   "cell_type": "markdown",
   "id": "af04f4df-9292-4576-9042-186d22471f77",
   "metadata": {},
   "source": [
    "# General"
   ]
  },
  {
   "cell_type": "code",
   "execution_count": 45,
   "id": "6fa341ac-6790-4e86-9027-d932a065d1b8",
   "metadata": {},
   "outputs": [],
   "source": []
  },
  {
   "cell_type": "markdown",
   "id": "c082dcd8-c56e-4dbd-81b5-5cbb412e06ec",
   "metadata": {
    "colab_type": "text",
    "id": "pOyqYHTk_Q57"
   },
   "source": [
    "### Importing the libraries"
   ]
  },
  {
   "cell_type": "code",
   "execution_count": 46,
   "id": "45b9ba96-61ee-4a9b-b4a9-019524df7870",
   "metadata": {
    "colab": {},
    "colab_type": "code",
    "id": "T_YHJjnD_Tja"
   },
   "outputs": [],
   "source": []
  },
  {
   "cell_type": "markdown",
   "id": "f1926cba-4a94-418d-8f5a-fe9766257fb3",
   "metadata": {
    "colab_type": "text",
    "id": "vgC61-ah_WIz"
   },
   "source": [
    "### Importing the dataset"
   ]
  },
  {
   "cell_type": "code",
   "execution_count": 47,
   "id": "438c0abc-7dd1-4910-8ff2-1319c91b198f",
   "metadata": {
    "colab": {},
    "colab_type": "code",
    "id": "UrxyEKGn_ez7"
   },
   "outputs": [],
   "source": []
  },
  {
   "cell_type": "markdown",
   "id": "356c36b6-da54-4691-b87e-512eb4a985a8",
   "metadata": {
    "colab_type": "text",
    "id": "WemVnqgeA70k"
   },
   "source": [
    "### Splitting the dataset into the Training set and Test set"
   ]
  },
  {
   "cell_type": "code",
   "execution_count": 49,
   "id": "0710580c-4333-4c4f-b054-5bfc35c6dff6",
   "metadata": {
    "colab": {},
    "colab_type": "code",
    "id": "Kb_v_ae-A-20"
   },
   "outputs": [],
   "source": []
  },
  {
   "cell_type": "markdown",
   "id": "009d779c-c332-4457-b14a-4a30ecc4a0da",
   "metadata": {
    "jupyter": {
     "source_hidden": true
    },
    "tags": []
   },
   "source": [
    "## Printing help"
   ]
  },
  {
   "cell_type": "code",
   "execution_count": 50,
   "id": "ba008e25-bed9-438e-b34b-bc5061b44e8b",
   "metadata": {
    "jupyter": {
     "source_hidden": true
    },
    "tags": []
   },
   "outputs": [],
   "source": []
  },
  {
   "cell_type": "markdown",
   "id": "372352b9-ba2c-4585-b096-64a659cf8e47",
   "metadata": {
    "colab_type": "text",
    "id": "CazISR8X_HUG",
    "tags": []
   },
   "source": [
    "# Multiple Linear Regression"
   ]
  },
  {
   "cell_type": "markdown",
   "id": "f723015a-dc45-4229-83fa-cb9b85f44e50",
   "metadata": {
    "colab_type": "text",
    "id": "k-McZVsQBINc"
   },
   "source": [
    "### Training the Multiple Linear Regression model on the Training set"
   ]
  },
  {
   "cell_type": "code",
   "execution_count": null,
   "id": "ef694434-4e3d-4e31-bc94-7d62c3066533",
   "metadata": {},
   "outputs": [],
   "source": []
  },
  {
   "cell_type": "markdown",
   "id": "28c2bad0-9a59-490d-af3b-547e94f5ab8e",
   "metadata": {
    "colab_type": "text",
    "id": "xNkXL1YQBiBT"
   },
   "source": [
    "### Predicting the Test set results"
   ]
  },
  {
   "cell_type": "code",
   "execution_count": null,
   "id": "329f26bf-4f4e-4a39-aac5-65e9e387c6ed",
   "metadata": {},
   "outputs": [],
   "source": []
  },
  {
   "cell_type": "markdown",
   "id": "e9590098-222a-4be3-b123-c5763f7f6f0f",
   "metadata": {
    "colab_type": "text",
    "id": "50DZZy0UyhLi",
    "tags": []
   },
   "source": [
    "### Evaluating the Model Performance"
   ]
  },
  {
   "cell_type": "code",
   "execution_count": null,
   "id": "d504f766-aa5b-4198-93d4-f65316ce9fd6",
   "metadata": {},
   "outputs": [],
   "source": []
  },
  {
   "cell_type": "markdown",
   "id": "ec002ae4-d83d-4e20-bcab-d4118ac1642c",
   "metadata": {
    "colab_type": "text",
    "id": "vN99YjPTDena",
    "tags": []
   },
   "source": [
    "# Polynomial Regression"
   ]
  },
  {
   "cell_type": "markdown",
   "id": "5d5d9a71-def5-4601-9e8f-bd398b5a6167",
   "metadata": {
    "colab_type": "text",
    "id": "Rb5nWuSHEfBV",
    "tags": []
   },
   "source": [
    "### Training the Polynomial Regression model on the Training set"
   ]
  },
  {
   "cell_type": "code",
   "execution_count": null,
   "id": "19eea084-2a35-493a-8628-b1ba4e6e5cbf",
   "metadata": {},
   "outputs": [],
   "source": []
  },
  {
   "cell_type": "markdown",
   "id": "8c1ceac5-363b-4849-a2be-9deded46d167",
   "metadata": {
    "colab_type": "text",
    "id": "pzF3BRps9nlk"
   },
   "source": [
    "### Predicting the Test set results"
   ]
  },
  {
   "cell_type": "code",
   "execution_count": null,
   "id": "b25fd7c4-cf59-4745-8a14-876bcde17d01",
   "metadata": {},
   "outputs": [],
   "source": []
  },
  {
   "cell_type": "markdown",
   "id": "6fe44e29-9cd1-44b0-81cc-820549e36459",
   "metadata": {
    "colab_type": "text",
    "id": "Fz1uTlWV919-",
    "tags": []
   },
   "source": [
    "### Evaluating the Model Performance"
   ]
  },
  {
   "cell_type": "code",
   "execution_count": null,
   "id": "4b4c09da-f110-426e-b985-bf2294af2e9a",
   "metadata": {},
   "outputs": [],
   "source": []
  },
  {
   "cell_type": "markdown",
   "id": "5f93b10b-ca72-4f44-81c7-9a27b17534fa",
   "metadata": {
    "colab_type": "text",
    "id": "m3PAEPRDRLA3",
    "tags": []
   },
   "source": [
    "# Support Vector Regression (SVR)"
   ]
  },
  {
   "cell_type": "markdown",
   "id": "55bc4618-e6e9-45c8-b0a4-eab4139ace01",
   "metadata": {
    "colab_type": "text",
    "id": "YS8FeLHYS-nI"
   },
   "source": [
    "### Feature Scaling"
   ]
  },
  {
   "cell_type": "code",
   "execution_count": null,
   "id": "ec05d54b-bece-4a5e-9439-71ffff158bae",
   "metadata": {},
   "outputs": [],
   "source": []
  },
  {
   "cell_type": "markdown",
   "id": "5a405c7a-d1e1-46ea-b715-e50e55558b92",
   "metadata": {
    "colab_type": "text",
    "id": "eiU6D2QFRjxY"
   },
   "source": [
    "### Training the SVR model on the Training set"
   ]
  },
  {
   "cell_type": "code",
   "execution_count": null,
   "id": "ef8e210d-3b09-46fb-afd4-0fed39e0bf80",
   "metadata": {},
   "outputs": [],
   "source": []
  },
  {
   "cell_type": "markdown",
   "id": "9f24306d-72ef-4341-ba81-ea1a5e44c9c8",
   "metadata": {
    "colab_type": "text",
    "id": "aPYA5W1pDBOE",
    "tags": []
   },
   "source": [
    "### Predicting the Test set results"
   ]
  },
  {
   "cell_type": "code",
   "execution_count": null,
   "id": "2a4b0b2f-6f73-40c8-9eb0-add3e8ae9b6d",
   "metadata": {},
   "outputs": [],
   "source": []
  },
  {
   "cell_type": "code",
   "execution_count": 69,
   "id": "15c3d65b-aa5d-4b43-9ee5-20adb812b79a",
   "metadata": {
    "colab": {},
    "colab_type": "code",
    "id": "vSqFVDYrDROW",
    "jupyter": {
     "source_hidden": true
    },
    "tags": []
   },
   "outputs": [
    {
     "data": {
      "text/plain": [
       "array([[437.57, 443.15],\n",
       "       [444.63, 441.58],\n",
       "       [475.4 , 467.05],\n",
       "       ...,\n",
       "       [463.65, 462.32],\n",
       "       [447.01, 445.17],\n",
       "       [465.11, 462.96]])"
      ]
     },
     "execution_count": 69,
     "metadata": {},
     "output_type": "execute_result"
    }
   ],
   "source": []
  },
  {
   "cell_type": "markdown",
   "id": "846a5016-17ea-4c80-9c25-a74146c08120",
   "metadata": {
    "colab_type": "text",
    "id": "CMsYlps2DX1d",
    "tags": []
   },
   "source": [
    "### Evaluating the Model Performance"
   ]
  },
  {
   "cell_type": "code",
   "execution_count": null,
   "id": "448a5d15-778a-48bb-8011-b5e199246c5a",
   "metadata": {},
   "outputs": [],
   "source": []
  },
  {
   "cell_type": "markdown",
   "id": "6754d095-21c2-4a4a-bb44-f3d21ae2eb2f",
   "metadata": {
    "colab_type": "text",
    "id": "r3cas2_1T98w",
    "tags": []
   },
   "source": [
    "# Decision Tree Regression"
   ]
  },
  {
   "cell_type": "markdown",
   "id": "e2fa7c49-c1a1-4b58-a3d6-91ee77fcb19c",
   "metadata": {
    "colab_type": "text",
    "id": "g16qFkFQVC35",
    "tags": []
   },
   "source": [
    "### Training the Decision Tree Regression model on the Training set"
   ]
  },
  {
   "cell_type": "code",
   "execution_count": null,
   "id": "9ab6b5d9-15f3-4c39-bcf1-c8b4ec0ae401",
   "metadata": {},
   "outputs": [],
   "source": []
  },
  {
   "cell_type": "markdown",
   "id": "a6273320-a439-4be1-b798-c024eb69eafa",
   "metadata": {
    "colab_type": "text",
    "id": "Nao9cdO6IgNb"
   },
   "source": [
    "### Predicting the Test set results"
   ]
  },
  {
   "cell_type": "code",
   "execution_count": null,
   "id": "e27ce66e-ac16-4603-b87e-80fc91799457",
   "metadata": {},
   "outputs": [],
   "source": []
  },
  {
   "cell_type": "markdown",
   "id": "18537304-e822-4129-9206-a847f42b2830",
   "metadata": {
    "colab_type": "text",
    "id": "V4nELFnnIod1",
    "tags": []
   },
   "source": [
    "### Evaluating the Model Performance"
   ]
  },
  {
   "cell_type": "code",
   "execution_count": null,
   "id": "80548d2d-80a4-4fd3-9d6c-f03028905689",
   "metadata": {},
   "outputs": [],
   "source": []
  },
  {
   "cell_type": "markdown",
   "id": "b2b5fb2b-b7b1-46a0-9a1d-71b26ef9af01",
   "metadata": {
    "colab_type": "text",
    "id": "LeamvpPVXuS_",
    "tags": []
   },
   "source": [
    "# Random Forest Regression"
   ]
  },
  {
   "cell_type": "markdown",
   "id": "9162a1f0-76ec-43ac-a809-80aa8afe919b",
   "metadata": {
    "colab_type": "text",
    "id": "v4S2fyIBYDcu"
   },
   "source": [
    "### Training the Random Forest Regression model on the whole dataset"
   ]
  },
  {
   "cell_type": "code",
   "execution_count": null,
   "id": "80fd6f3a-b28b-45eb-843f-49e4d6b5a4d9",
   "metadata": {},
   "outputs": [],
   "source": []
  },
  {
   "cell_type": "markdown",
   "id": "cb4307f3-4e03-4206-9a8e-8c3e1dafdb6d",
   "metadata": {
    "colab_type": "text",
    "id": "DM_jh0frOPKE"
   },
   "source": [
    "### Predicting the Test set results"
   ]
  },
  {
   "cell_type": "code",
   "execution_count": null,
   "id": "1b523063-ffae-4b4f-a5da-77df976c4a8b",
   "metadata": {},
   "outputs": [],
   "source": []
  },
  {
   "cell_type": "markdown",
   "id": "eadc7e6b-af5b-4b7a-af7a-32dde773ba20",
   "metadata": {
    "tags": []
   },
   "source": [
    "## Evaluating the Model Performance"
   ]
  },
  {
   "cell_type": "code",
   "execution_count": null,
   "id": "4de92501-ad19-4ea6-8491-5ca78077f901",
   "metadata": {
    "tags": []
   },
   "outputs": [],
   "source": []
  },
  {
   "cell_type": "markdown",
   "id": "118da769-bf0d-4657-9ecf-1dc3188cc930",
   "metadata": {
    "colab_type": "text",
    "id": "50DZZy0UyhLi",
    "tags": []
   },
   "source": [
    "# Evaluating the Model Performance"
   ]
  },
  {
   "cell_type": "code",
   "execution_count": null,
   "id": "2d7974d7-8ca7-49c2-b20b-9b0796398dde",
   "metadata": {},
   "outputs": [],
   "source": []
  },
  {
   "cell_type": "code",
   "execution_count": null,
   "id": "f1d497b4-660c-4ba2-90db-706fccc54329",
   "metadata": {},
   "outputs": [],
   "source": []
  },
  {
   "cell_type": "markdown",
   "id": "4519ab05-a9ea-4383-b771-7afc6e9ee80c",
   "metadata": {},
   "source": [
    "# Printing"
   ]
  },
  {
   "cell_type": "code",
   "execution_count": null,
   "id": "c9fa4bfe-4a48-40ca-a276-4d3871ef1350",
   "metadata": {},
   "outputs": [],
   "source": []
  }
 ],
 "metadata": {
  "kernelspec": {
   "display_name": "Python 3 (ipykernel)",
   "language": "python",
   "name": "python3"
  },
  "language_info": {
   "codemirror_mode": {
    "name": "ipython",
    "version": 3
   },
   "file_extension": ".py",
   "mimetype": "text/x-python",
   "name": "python",
   "nbconvert_exporter": "python",
   "pygments_lexer": "ipython3",
   "version": "3.9.7"
  }
 },
 "nbformat": 4,
 "nbformat_minor": 5
}
