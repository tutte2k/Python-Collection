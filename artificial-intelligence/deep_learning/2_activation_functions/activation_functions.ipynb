{
 "cells": [
  {
   "cell_type": "code",
   "execution_count": 16,
   "metadata": {},
   "outputs": [],
   "source": [
    "import math\n",
    "def sigmoid(x):\n",
    "    return 1/(1+math.exp(-x))\n",
    "def tanh(x):\n",
    "    return (math.exp(x)-math.exp(-x))/(math.exp(x)+math.exp(-x))\n",
    "\n",
    "    \n",
    "def relu(x):\n",
    "    return max(0,x)\n",
    "\n",
    "\n",
    "def leaky_relu(x):\n",
    "    return max(0.1*x,x)"
   ]
  },
  {
   "cell_type": "code",
   "execution_count": 27,
   "metadata": {},
   "outputs": [
    {
     "name": "stdout",
     "output_type": "stream",
     "text": [
      "sigmoid\n",
      "100 1.0\n",
      "1 0.7310585786300049\n",
      "-56 4.780892883885469e-25\n",
      "0.5 0.6224593312018546\n",
      "tanh\n",
      "-56 -1.0\n",
      "250 1.0\n",
      "50 1.0\n",
      "1 0.7615941559557649\n",
      "relu\n",
      "-100 0\n",
      "8 8\n",
      "leaky_relu\n",
      "-100 -10.0\n",
      "100 100\n",
      "8 8\n"
     ]
    }
   ],
   "source": [
    "print('sigmoid')\n",
    "print(100,sigmoid(100))\n",
    "print(1,sigmoid(1))\n",
    "print(-56,sigmoid(-56))\n",
    "print(0.5,sigmoid(0.5))\n",
    "print('tanh')\n",
    "print(-56,tanh(-56))\n",
    "print(250,tanh(250))\n",
    "print(50,tanh(50))\n",
    "print(1,tanh(1))\n",
    "print('relu')\n",
    "print(-100,relu(-100))\n",
    "print(8,relu(8))\n",
    "print('leaky_relu')\n",
    "print(-100,leaky_relu(-100))\n",
    "print(100,leaky_relu(100))\n",
    "print(8,leaky_relu(8))"
   ]
  },
  {
   "cell_type": "code",
   "execution_count": null,
   "metadata": {},
   "outputs": [],
   "source": []
  }
 ],
 "metadata": {
  "kernelspec": {
   "display_name": "Python 3.10.5 64-bit",
   "language": "python",
   "name": "python3"
  },
  "language_info": {
   "codemirror_mode": {
    "name": "ipython",
    "version": 3
   },
   "file_extension": ".py",
   "mimetype": "text/x-python",
   "name": "python",
   "nbconvert_exporter": "python",
   "pygments_lexer": "ipython3",
   "version": "3.10.5"
  },
  "orig_nbformat": 4,
  "vscode": {
   "interpreter": {
    "hash": "369f2c481f4da34e4445cda3fffd2e751bd1c4d706f27375911949ba6bb62e1c"
   }
  }
 },
 "nbformat": 4,
 "nbformat_minor": 2
}
