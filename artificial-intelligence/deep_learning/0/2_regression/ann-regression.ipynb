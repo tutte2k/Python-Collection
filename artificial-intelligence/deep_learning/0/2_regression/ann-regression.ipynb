{
 "cells": [
  {
   "cell_type": "markdown",
   "metadata": {
    "colab_type": "text",
    "id": "3cbb7fRy-eyr"
   },
   "source": [
    "# Artificial Neural Network"
   ]
  },
  {
   "cell_type": "markdown",
   "metadata": {
    "colab_type": "text",
    "id": "8sNDnxE2-pwE"
   },
   "source": [
    "### Importing the libraries"
   ]
  },
  {
   "cell_type": "code",
   "execution_count": 71,
   "metadata": {
    "colab": {},
    "colab_type": "code",
    "id": "lxChR1Rk-umf"
   },
   "outputs": [],
   "source": [
    "import numpy as np\n",
    "import pandas as pd\n",
    "import tensorflow as tf\n",
    "from keras.models import Sequential\n",
    "from keras.layers import Dense\n",
    "from sklearn.preprocessing import StandardScaler\n",
    "from sklearn.model_selection import train_test_split\n",
    "from sklearn.metrics import classification_report,confusion_matrix,accuracy_score"
   ]
  },
  {
   "cell_type": "markdown",
   "metadata": {
    "colab_type": "text",
    "id": "AG3FQEch-yuA"
   },
   "source": [
    "## Part 1 - Data Preprocessing"
   ]
  },
  {
   "cell_type": "markdown",
   "metadata": {
    "colab_type": "text",
    "id": "-4zq8Mza_D9O"
   },
   "source": [
    "### Importing the dataset"
   ]
  },
  {
   "cell_type": "code",
   "execution_count": 72,
   "metadata": {
    "colab": {
     "base_uri": "https://localhost:8080/",
     "height": 34
    },
    "colab_type": "code",
    "id": "uBTqR3nacj0e",
    "outputId": "4c0bd183-e424-429a-9fba-ceb841c06888"
   },
   "outputs": [
    {
     "data": {
      "text/plain": [
       "0       463.26\n",
       "1       444.37\n",
       "2       488.56\n",
       "3       446.48\n",
       "4       473.90\n",
       "         ...  \n",
       "9563    460.03\n",
       "9564    469.62\n",
       "9565    429.57\n",
       "9566    435.74\n",
       "9567    453.28\n",
       "Name: PE, Length: 9568, dtype: float64"
      ]
     },
     "execution_count": 72,
     "metadata": {},
     "output_type": "execute_result"
    }
   ],
   "source": [
    "data = pd.read_excel('Folds5x2_pp.xlsx')\n",
    "data['PE']"
   ]
  },
  {
   "cell_type": "code",
   "execution_count": 73,
   "metadata": {},
   "outputs": [
    {
     "name": "stdout",
     "output_type": "stream",
     "text": [
      "(6697, 4)\n",
      "(6697, 1)\n",
      "(2871, 4)\n",
      "(2871, 1)\n"
     ]
    }
   ],
   "source": [
    "# Separate Target Variable and Predictor Variables\n",
    "TargetVariable=['PE']\n",
    "Predictors=['AT', 'V', 'AP','RH']\n",
    "\n",
    "X=data[Predictors].values\n",
    "y=data[TargetVariable].values\n",
    "\n",
    "### Sandardization of data ###\n",
    "PredictorScaler=StandardScaler()\n",
    "TargetVarScaler=StandardScaler()\n",
    "\n",
    "# Storing the fit object for later reference\n",
    "PredictorScalerFit=PredictorScaler.fit(X)\n",
    "TargetVarScalerFit=TargetVarScaler.fit(y)\n",
    "\n",
    "# Generating the standardized values of X and y\n",
    "X=PredictorScalerFit.transform(X)\n",
    "y=TargetVarScalerFit.transform(y)\n",
    "\n",
    "# Split the data into training and testing set\n",
    "\n",
    "X_train, X_test, y_train, y_test = train_test_split(X, y, test_size=0.3, random_state=42)\n",
    "\n",
    "# Quick sanity check with the shapes of Training and testing datasets\n",
    "print(X_train.shape)\n",
    "print(y_train.shape)\n",
    "print(X_test.shape)\n",
    "print(y_test.shape)"
   ]
  },
  {
   "cell_type": "code",
   "execution_count": 86,
   "metadata": {},
   "outputs": [
    {
     "name": "stdout",
     "output_type": "stream",
     "text": [
      "Epoch 1/50\n",
      "335/335 [==============================] - 1s 3ms/step - loss: 0.4062\n",
      "Epoch 2/50\n",
      "335/335 [==============================] - 1s 2ms/step - loss: 0.0935\n",
      "Epoch 3/50\n",
      "335/335 [==============================] - 1s 2ms/step - loss: 0.0729\n",
      "Epoch 4/50\n",
      "335/335 [==============================] - 1s 2ms/step - loss: 0.0652\n",
      "Epoch 5/50\n",
      "335/335 [==============================] - 1s 3ms/step - loss: 0.0631\n",
      "Epoch 6/50\n",
      "335/335 [==============================] - 1s 3ms/step - loss: 0.0620\n",
      "Epoch 7/50\n",
      "335/335 [==============================] - 1s 2ms/step - loss: 0.0615\n",
      "Epoch 8/50\n",
      "335/335 [==============================] - 1s 2ms/step - loss: 0.0609\n",
      "Epoch 9/50\n",
      "335/335 [==============================] - 1s 2ms/step - loss: 0.0607\n",
      "Epoch 10/50\n",
      "335/335 [==============================] - 1s 2ms/step - loss: 0.0606\n",
      "Epoch 11/50\n",
      "335/335 [==============================] - 1s 3ms/step - loss: 0.0603\n",
      "Epoch 12/50\n",
      "335/335 [==============================] - 1s 3ms/step - loss: 0.0602\n",
      "Epoch 13/50\n",
      "335/335 [==============================] - 1s 2ms/step - loss: 0.0599\n",
      "Epoch 14/50\n",
      "335/335 [==============================] - 1s 2ms/step - loss: 0.0602\n",
      "Epoch 15/50\n",
      "335/335 [==============================] - 1s 3ms/step - loss: 0.0599\n",
      "Epoch 16/50\n",
      "335/335 [==============================] - 1s 2ms/step - loss: 0.0601\n",
      "Epoch 17/50\n",
      "335/335 [==============================] - 1s 2ms/step - loss: 0.0600\n",
      "Epoch 18/50\n",
      "335/335 [==============================] - 1s 2ms/step - loss: 0.0599\n",
      "Epoch 19/50\n",
      "335/335 [==============================] - 1s 3ms/step - loss: 0.0599\n",
      "Epoch 20/50\n",
      "335/335 [==============================] - 1s 2ms/step - loss: 0.0596\n",
      "Epoch 21/50\n",
      "335/335 [==============================] - 1s 3ms/step - loss: 0.0600\n",
      "Epoch 22/50\n",
      "335/335 [==============================] - 1s 2ms/step - loss: 0.0599\n",
      "Epoch 23/50\n",
      "335/335 [==============================] - 1s 3ms/step - loss: 0.0598\n",
      "Epoch 24/50\n",
      "335/335 [==============================] - 1s 2ms/step - loss: 0.0597\n",
      "Epoch 25/50\n",
      "335/335 [==============================] - 1s 3ms/step - loss: 0.0596\n",
      "Epoch 26/50\n",
      "335/335 [==============================] - 1s 2ms/step - loss: 0.0596\n",
      "Epoch 27/50\n",
      "335/335 [==============================] - 1s 3ms/step - loss: 0.0596\n",
      "Epoch 28/50\n",
      "335/335 [==============================] - 1s 2ms/step - loss: 0.0598\n",
      "Epoch 29/50\n",
      "335/335 [==============================] - 1s 3ms/step - loss: 0.0596\n",
      "Epoch 30/50\n",
      "335/335 [==============================] - 1s 2ms/step - loss: 0.0596\n",
      "Epoch 31/50\n",
      "335/335 [==============================] - 1s 2ms/step - loss: 0.0597\n",
      "Epoch 32/50\n",
      "335/335 [==============================] - 1s 2ms/step - loss: 0.0594\n",
      "Epoch 33/50\n",
      "335/335 [==============================] - 1s 3ms/step - loss: 0.0597\n",
      "Epoch 34/50\n",
      "335/335 [==============================] - 1s 2ms/step - loss: 0.0595\n",
      "Epoch 35/50\n",
      "335/335 [==============================] - 1s 2ms/step - loss: 0.0595\n",
      "Epoch 36/50\n",
      "335/335 [==============================] - 1s 3ms/step - loss: 0.0595\n",
      "Epoch 37/50\n",
      "335/335 [==============================] - 1s 3ms/step - loss: 0.0592\n",
      "Epoch 38/50\n",
      "335/335 [==============================] - 1s 3ms/step - loss: 0.0594\n",
      "Epoch 39/50\n",
      "335/335 [==============================] - 1s 2ms/step - loss: 0.0595\n",
      "Epoch 40/50\n",
      "335/335 [==============================] - 1s 2ms/step - loss: 0.0593\n",
      "Epoch 41/50\n",
      "335/335 [==============================] - 1s 2ms/step - loss: 0.0595\n",
      "Epoch 42/50\n",
      "335/335 [==============================] - 1s 3ms/step - loss: 0.0592\n",
      "Epoch 43/50\n",
      "335/335 [==============================] - 1s 3ms/step - loss: 0.0593\n",
      "Epoch 44/50\n",
      "335/335 [==============================] - 1s 3ms/step - loss: 0.0595\n",
      "Epoch 45/50\n",
      "335/335 [==============================] - 1s 2ms/step - loss: 0.0593\n",
      "Epoch 46/50\n",
      "335/335 [==============================] - 1s 2ms/step - loss: 0.0594\n",
      "Epoch 47/50\n",
      "335/335 [==============================] - 1s 3ms/step - loss: 0.0592\n",
      "Epoch 48/50\n",
      "335/335 [==============================] - 1s 2ms/step - loss: 0.0594\n",
      "Epoch 49/50\n",
      "335/335 [==============================] - 1s 2ms/step - loss: 0.0591\n",
      "Epoch 50/50\n",
      "335/335 [==============================] - 1s 3ms/step - loss: 0.0594\n"
     ]
    },
    {
     "data": {
      "text/plain": [
       "<keras.callbacks.History at 0x1c5551b3f70>"
      ]
     },
     "execution_count": 86,
     "metadata": {},
     "output_type": "execute_result"
    }
   ],
   "source": [
    "\n",
    " \n",
    "# create ANN model\n",
    "model = Sequential()\n",
    " \n",
    "# Defining the Input layer and FIRST hidden layer, both are same!\n",
    "model.add(Dense(units=10, input_dim=4, kernel_initializer='normal', activation='relu'))\n",
    " \n",
    "# Defining the Second layer of the model\n",
    "# after the first layer we don't have to specify input_dim as keras configure it automatically\n",
    "model.add(Dense(units=5, kernel_initializer='normal', activation='tanh'))\n",
    " \n",
    "# The output neuron is a single fully connected node \n",
    "# Since we will be predicting a single number\n",
    "model.add(Dense(1, kernel_initializer='normal'))\n",
    " \n",
    "# Compiling the model\n",
    "model.compile(loss='mean_squared_error', optimizer='adam')\n",
    " \n",
    "# Fitting the ANN to the Training set\n",
    "model.fit(X_train, y_train , batch_size = 20, epochs = 50, verbose=1)"
   ]
  },
  {
   "cell_type": "code",
   "execution_count": 87,
   "metadata": {},
   "outputs": [
    {
     "name": "stdout",
     "output_type": "stream",
     "text": [
      "90/90 [==============================] - 0s 1ms/step\n"
     ]
    },
    {
     "data": {
      "text/html": [
       "<div>\n",
       "<style scoped>\n",
       "    .dataframe tbody tr th:only-of-type {\n",
       "        vertical-align: middle;\n",
       "    }\n",
       "\n",
       "    .dataframe tbody tr th {\n",
       "        vertical-align: top;\n",
       "    }\n",
       "\n",
       "    .dataframe thead th {\n",
       "        text-align: right;\n",
       "    }\n",
       "</style>\n",
       "<table border=\"1\" class=\"dataframe\">\n",
       "  <thead>\n",
       "    <tr style=\"text-align: right;\">\n",
       "      <th></th>\n",
       "      <th>AT</th>\n",
       "      <th>V</th>\n",
       "      <th>AP</th>\n",
       "      <th>RH</th>\n",
       "      <th>PE</th>\n",
       "      <th>PredictedPE</th>\n",
       "    </tr>\n",
       "  </thead>\n",
       "  <tbody>\n",
       "    <tr>\n",
       "      <th>0</th>\n",
       "      <td>19.64</td>\n",
       "      <td>48.06</td>\n",
       "      <td>1014.81</td>\n",
       "      <td>74.96</td>\n",
       "      <td>455.27</td>\n",
       "      <td>456.403137</td>\n",
       "    </tr>\n",
       "    <tr>\n",
       "      <th>1</th>\n",
       "      <td>28.26</td>\n",
       "      <td>69.23</td>\n",
       "      <td>1013.01</td>\n",
       "      <td>42.10</td>\n",
       "      <td>436.31</td>\n",
       "      <td>438.101654</td>\n",
       "    </tr>\n",
       "    <tr>\n",
       "      <th>2</th>\n",
       "      <td>27.98</td>\n",
       "      <td>67.17</td>\n",
       "      <td>1007.32</td>\n",
       "      <td>75.29</td>\n",
       "      <td>440.68</td>\n",
       "      <td>434.301788</td>\n",
       "    </tr>\n",
       "    <tr>\n",
       "      <th>3</th>\n",
       "      <td>28.64</td>\n",
       "      <td>69.23</td>\n",
       "      <td>1013.11</td>\n",
       "      <td>37.13</td>\n",
       "      <td>434.40</td>\n",
       "      <td>438.217285</td>\n",
       "    </tr>\n",
       "    <tr>\n",
       "      <th>4</th>\n",
       "      <td>9.34</td>\n",
       "      <td>38.08</td>\n",
       "      <td>1019.56</td>\n",
       "      <td>67.74</td>\n",
       "      <td>482.06</td>\n",
       "      <td>481.322998</td>\n",
       "    </tr>\n",
       "  </tbody>\n",
       "</table>\n",
       "</div>"
      ],
      "text/plain": [
       "      AT      V       AP     RH      PE  PredictedPE\n",
       "0  19.64  48.06  1014.81  74.96  455.27   456.403137\n",
       "1  28.26  69.23  1013.01  42.10  436.31   438.101654\n",
       "2  27.98  67.17  1007.32  75.29  440.68   434.301788\n",
       "3  28.64  69.23  1013.11  37.13  434.40   438.217285\n",
       "4   9.34  38.08  1019.56  67.74  482.06   481.322998"
      ]
     },
     "execution_count": 87,
     "metadata": {},
     "output_type": "execute_result"
    }
   ],
   "source": [
    "Predictions=model.predict(X_test)\n",
    " \n",
    "# Scaling the predicted Price data back to original price scale\n",
    "Predictions=TargetVarScalerFit.inverse_transform(Predictions)\n",
    " \n",
    "# Scaling the y_test Price data back to original price scale\n",
    "y_test_orig=TargetVarScalerFit.inverse_transform(y_test)\n",
    " \n",
    "# Scaling the test data back to original scale\n",
    "Test_Data=PredictorScalerFit.inverse_transform(X_test)\n",
    " \n",
    "TestingData=pd.DataFrame(data=Test_Data, columns=Predictors)\n",
    "TestingData['PE']=y_test_orig\n",
    "TestingData['PredictedPE']=Predictions\n",
    "TestingData.head()"
   ]
  },
  {
   "cell_type": "code",
   "execution_count": 88,
   "metadata": {},
   "outputs": [
    {
     "name": "stdout",
     "output_type": "stream",
     "text": [
      "satisfaction factor: 99.28152604559108\n"
     ]
    },
    {
     "data": {
      "text/html": [
       "<div>\n",
       "<style scoped>\n",
       "    .dataframe tbody tr th:only-of-type {\n",
       "        vertical-align: middle;\n",
       "    }\n",
       "\n",
       "    .dataframe tbody tr th {\n",
       "        vertical-align: top;\n",
       "    }\n",
       "\n",
       "    .dataframe thead th {\n",
       "        text-align: right;\n",
       "    }\n",
       "</style>\n",
       "<table border=\"1\" class=\"dataframe\">\n",
       "  <thead>\n",
       "    <tr style=\"text-align: right;\">\n",
       "      <th></th>\n",
       "      <th>AT</th>\n",
       "      <th>V</th>\n",
       "      <th>AP</th>\n",
       "      <th>RH</th>\n",
       "      <th>PE</th>\n",
       "      <th>PredictedPE</th>\n",
       "      <th>APE</th>\n",
       "    </tr>\n",
       "  </thead>\n",
       "  <tbody>\n",
       "    <tr>\n",
       "      <th>0</th>\n",
       "      <td>19.64</td>\n",
       "      <td>48.06</td>\n",
       "      <td>1014.81</td>\n",
       "      <td>74.96</td>\n",
       "      <td>455.27</td>\n",
       "      <td>456.403137</td>\n",
       "      <td>0.248893</td>\n",
       "    </tr>\n",
       "    <tr>\n",
       "      <th>1</th>\n",
       "      <td>28.26</td>\n",
       "      <td>69.23</td>\n",
       "      <td>1013.01</td>\n",
       "      <td>42.10</td>\n",
       "      <td>436.31</td>\n",
       "      <td>438.101654</td>\n",
       "      <td>0.410638</td>\n",
       "    </tr>\n",
       "    <tr>\n",
       "      <th>2</th>\n",
       "      <td>27.98</td>\n",
       "      <td>67.17</td>\n",
       "      <td>1007.32</td>\n",
       "      <td>75.29</td>\n",
       "      <td>440.68</td>\n",
       "      <td>434.301788</td>\n",
       "      <td>1.447357</td>\n",
       "    </tr>\n",
       "    <tr>\n",
       "      <th>3</th>\n",
       "      <td>28.64</td>\n",
       "      <td>69.23</td>\n",
       "      <td>1013.11</td>\n",
       "      <td>37.13</td>\n",
       "      <td>434.40</td>\n",
       "      <td>438.217285</td>\n",
       "      <td>0.878749</td>\n",
       "    </tr>\n",
       "    <tr>\n",
       "      <th>4</th>\n",
       "      <td>9.34</td>\n",
       "      <td>38.08</td>\n",
       "      <td>1019.56</td>\n",
       "      <td>67.74</td>\n",
       "      <td>482.06</td>\n",
       "      <td>481.322998</td>\n",
       "      <td>0.152886</td>\n",
       "    </tr>\n",
       "  </tbody>\n",
       "</table>\n",
       "</div>"
      ],
      "text/plain": [
       "      AT      V       AP     RH      PE  PredictedPE       APE\n",
       "0  19.64  48.06  1014.81  74.96  455.27   456.403137  0.248893\n",
       "1  28.26  69.23  1013.01  42.10  436.31   438.101654  0.410638\n",
       "2  27.98  67.17  1007.32  75.29  440.68   434.301788  1.447357\n",
       "3  28.64  69.23  1013.11  37.13  434.40   438.217285  0.878749\n",
       "4   9.34  38.08  1019.56  67.74  482.06   481.322998  0.152886"
      ]
     },
     "execution_count": 88,
     "metadata": {},
     "output_type": "execute_result"
    }
   ],
   "source": [
    "# Computing the absolute percent error\n",
    "APE=100*(abs(TestingData['PE']-TestingData['PredictedPE'])/TestingData['PE'])\n",
    "TestingData['APE']=APE\n",
    " \n",
    "print('satisfaction factor:', 100-np.mean(APE))\n",
    "TestingData.head()\n",
    "\n"
   ]
  },
  {
   "cell_type": "code",
   "execution_count": 85,
   "metadata": {},
   "outputs": [
    {
     "data": {
      "text/plain": [
       "0.9388861653265876"
      ]
     },
     "execution_count": 85,
     "metadata": {},
     "output_type": "execute_result"
    }
   ],
   "source": [
    "from sklearn.metrics import r2_score\n",
    "r2_score(y_test_orig,Predictions)"
   ]
  },
  {
   "cell_type": "code",
   "execution_count": null,
   "metadata": {},
   "outputs": [],
   "source": []
  }
 ],
 "metadata": {
  "colab": {
   "collapsed_sections": [],
   "name": "Artificial Neural Network",
   "provenance": [],
   "toc_visible": true
  },
  "kernelspec": {
   "display_name": "Python 3.10.5 64-bit",
   "language": "python",
   "name": "python3"
  },
  "language_info": {
   "codemirror_mode": {
    "name": "ipython",
    "version": 3
   },
   "file_extension": ".py",
   "mimetype": "text/x-python",
   "name": "python",
   "nbconvert_exporter": "python",
   "pygments_lexer": "ipython3",
   "version": "3.10.5"
  },
  "vscode": {
   "interpreter": {
    "hash": "369f2c481f4da34e4445cda3fffd2e751bd1c4d706f27375911949ba6bb62e1c"
   }
  }
 },
 "nbformat": 4,
 "nbformat_minor": 1
}
