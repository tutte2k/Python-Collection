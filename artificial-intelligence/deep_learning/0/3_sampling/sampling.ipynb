{
 "cells": [
  {
   "cell_type": "code",
   "execution_count": 40,
   "metadata": {},
   "outputs": [],
   "source": [
    "from imblearn.under_sampling import NearMiss\n",
    "from imblearn.under_sampling import CondensedNearestNeighbour as CNNb\n",
    "from imblearn.over_sampling import SMOTE\n",
    "from imblearn.over_sampling import ADASYN\n",
    "from collections import Counter\n",
    "import pandas as pd\n",
    "import numpy as np\n",
    "from sklearn.preprocessing import LabelEncoder\n",
    "from sklearn.decomposition import PCA\n",
    "from sklearn.model_selection import train_test_split\n"
   ]
  },
  {
   "cell_type": "code",
   "execution_count": 41,
   "metadata": {},
   "outputs": [
    {
     "data": {
      "text/html": [
       "<div>\n",
       "<style scoped>\n",
       "    .dataframe tbody tr th:only-of-type {\n",
       "        vertical-align: middle;\n",
       "    }\n",
       "\n",
       "    .dataframe tbody tr th {\n",
       "        vertical-align: top;\n",
       "    }\n",
       "\n",
       "    .dataframe thead th {\n",
       "        text-align: right;\n",
       "    }\n",
       "</style>\n",
       "<table border=\"1\" class=\"dataframe\">\n",
       "  <thead>\n",
       "    <tr style=\"text-align: right;\">\n",
       "      <th></th>\n",
       "      <th>NEG_01_NEG</th>\n",
       "      <th>NEG_03_NEG</th>\n",
       "      <th>NEG_04_NEG</th>\n",
       "      <th>NEG_05_NEG</th>\n",
       "      <th>NEG_06_NEG</th>\n",
       "      <th>NEG_07_NEG</th>\n",
       "      <th>NEG_03_POS</th>\n",
       "      <th>NEG_04_POS</th>\n",
       "      <th>NEG_05_POS</th>\n",
       "      <th>NEG_06_POS</th>\n",
       "      <th>...</th>\n",
       "      <th>WBN_LP_H_1.00</th>\n",
       "      <th>XLogP</th>\n",
       "      <th>PSA</th>\n",
       "      <th>NumRot</th>\n",
       "      <th>NumHBA</th>\n",
       "      <th>NumHBD</th>\n",
       "      <th>MW</th>\n",
       "      <th>BBB</th>\n",
       "      <th>BadGroup</th>\n",
       "      <th>Outcome</th>\n",
       "    </tr>\n",
       "  </thead>\n",
       "  <tbody>\n",
       "    <tr>\n",
       "      <th>0</th>\n",
       "      <td>0</td>\n",
       "      <td>0</td>\n",
       "      <td>0</td>\n",
       "      <td>0</td>\n",
       "      <td>0</td>\n",
       "      <td>0</td>\n",
       "      <td>0</td>\n",
       "      <td>0</td>\n",
       "      <td>0</td>\n",
       "      <td>0</td>\n",
       "      <td>...</td>\n",
       "      <td>3.7730</td>\n",
       "      <td>2.704</td>\n",
       "      <td>119.85</td>\n",
       "      <td>4</td>\n",
       "      <td>6</td>\n",
       "      <td>0</td>\n",
       "      <td>424.569</td>\n",
       "      <td>0</td>\n",
       "      <td>0</td>\n",
       "      <td>Active</td>\n",
       "    </tr>\n",
       "    <tr>\n",
       "      <th>1</th>\n",
       "      <td>0</td>\n",
       "      <td>0</td>\n",
       "      <td>0</td>\n",
       "      <td>0</td>\n",
       "      <td>0</td>\n",
       "      <td>0</td>\n",
       "      <td>0</td>\n",
       "      <td>0</td>\n",
       "      <td>0</td>\n",
       "      <td>0</td>\n",
       "      <td>...</td>\n",
       "      <td>3.5674</td>\n",
       "      <td>2.605</td>\n",
       "      <td>94.17</td>\n",
       "      <td>11</td>\n",
       "      <td>8</td>\n",
       "      <td>1</td>\n",
       "      <td>484.593</td>\n",
       "      <td>0</td>\n",
       "      <td>1</td>\n",
       "      <td>Active</td>\n",
       "    </tr>\n",
       "    <tr>\n",
       "      <th>2</th>\n",
       "      <td>0</td>\n",
       "      <td>0</td>\n",
       "      <td>0</td>\n",
       "      <td>0</td>\n",
       "      <td>0</td>\n",
       "      <td>0</td>\n",
       "      <td>0</td>\n",
       "      <td>0</td>\n",
       "      <td>0</td>\n",
       "      <td>0</td>\n",
       "      <td>...</td>\n",
       "      <td>3.9847</td>\n",
       "      <td>2.780</td>\n",
       "      <td>77.76</td>\n",
       "      <td>7</td>\n",
       "      <td>5</td>\n",
       "      <td>1</td>\n",
       "      <td>333.384</td>\n",
       "      <td>0</td>\n",
       "      <td>0</td>\n",
       "      <td>Active</td>\n",
       "    </tr>\n",
       "    <tr>\n",
       "      <th>3</th>\n",
       "      <td>0</td>\n",
       "      <td>0</td>\n",
       "      <td>0</td>\n",
       "      <td>0</td>\n",
       "      <td>0</td>\n",
       "      <td>0</td>\n",
       "      <td>0</td>\n",
       "      <td>0</td>\n",
       "      <td>0</td>\n",
       "      <td>0</td>\n",
       "      <td>...</td>\n",
       "      <td>3.6643</td>\n",
       "      <td>5.239</td>\n",
       "      <td>119.36</td>\n",
       "      <td>9</td>\n",
       "      <td>8</td>\n",
       "      <td>2</td>\n",
       "      <td>562.659</td>\n",
       "      <td>0</td>\n",
       "      <td>1</td>\n",
       "      <td>Active</td>\n",
       "    </tr>\n",
       "    <tr>\n",
       "      <th>4</th>\n",
       "      <td>0</td>\n",
       "      <td>0</td>\n",
       "      <td>0</td>\n",
       "      <td>0</td>\n",
       "      <td>0</td>\n",
       "      <td>0</td>\n",
       "      <td>0</td>\n",
       "      <td>0</td>\n",
       "      <td>0</td>\n",
       "      <td>0</td>\n",
       "      <td>...</td>\n",
       "      <td>3.6613</td>\n",
       "      <td>4.024</td>\n",
       "      <td>76.07</td>\n",
       "      <td>6</td>\n",
       "      <td>6</td>\n",
       "      <td>1</td>\n",
       "      <td>409.482</td>\n",
       "      <td>0</td>\n",
       "      <td>1</td>\n",
       "      <td>Active</td>\n",
       "    </tr>\n",
       "  </tbody>\n",
       "</table>\n",
       "<p>5 rows × 145 columns</p>\n",
       "</div>"
      ],
      "text/plain": [
       "   NEG_01_NEG  NEG_03_NEG  NEG_04_NEG  NEG_05_NEG  NEG_06_NEG  NEG_07_NEG  \\\n",
       "0           0           0           0           0           0           0   \n",
       "1           0           0           0           0           0           0   \n",
       "2           0           0           0           0           0           0   \n",
       "3           0           0           0           0           0           0   \n",
       "4           0           0           0           0           0           0   \n",
       "\n",
       "   NEG_03_POS  NEG_04_POS  NEG_05_POS  NEG_06_POS  ...  WBN_LP_H_1.00  XLogP  \\\n",
       "0           0           0           0           0  ...         3.7730  2.704   \n",
       "1           0           0           0           0  ...         3.5674  2.605   \n",
       "2           0           0           0           0  ...         3.9847  2.780   \n",
       "3           0           0           0           0  ...         3.6643  5.239   \n",
       "4           0           0           0           0  ...         3.6613  4.024   \n",
       "\n",
       "      PSA  NumRot  NumHBA  NumHBD       MW  BBB  BadGroup  Outcome  \n",
       "0  119.85       4       6       0  424.569    0         0   Active  \n",
       "1   94.17      11       8       1  484.593    0         1   Active  \n",
       "2   77.76       7       5       1  333.384    0         0   Active  \n",
       "3  119.36       9       8       2  562.659    0         1   Active  \n",
       "4   76.07       6       6       1  409.482    0         1   Active  \n",
       "\n",
       "[5 rows x 145 columns]"
      ]
     },
     "execution_count": 41,
     "metadata": {},
     "output_type": "execute_result"
    }
   ],
   "source": [
    "data = pd.read_csv('AID362red_train.csv')\n",
    "data.head()"
   ]
  },
  {
   "cell_type": "code",
   "execution_count": 42,
   "metadata": {},
   "outputs": [],
   "source": [
    "X = data.drop('Outcome',axis='columns').values\n",
    "y = data.Outcome.values\n",
    "y_org = y.copy()"
   ]
  },
  {
   "cell_type": "code",
   "execution_count": 43,
   "metadata": {},
   "outputs": [],
   "source": [
    "le= LabelEncoder()\n",
    "y = le.fit_transform(y_org)\n"
   ]
  },
  {
   "cell_type": "code",
   "execution_count": 44,
   "metadata": {},
   "outputs": [],
   "source": [
    "X_train, X_test,y_train,y_test = train_test_split(X,y,test_size=0.2,random_state=0)"
   ]
  },
  {
   "cell_type": "code",
   "execution_count": 45,
   "metadata": {},
   "outputs": [],
   "source": [
    "pre_counter = Counter(y_train)"
   ]
  },
  {
   "cell_type": "code",
   "execution_count": 46,
   "metadata": {},
   "outputs": [
    {
     "name": "stdout",
     "output_type": "stream",
     "text": [
      "Counter({1: 2704, 0: 34})\n",
      "Counter({0: 34, 1: 34})\n"
     ]
    }
   ],
   "source": [
    "under_nm = NearMiss()\n",
    "X_nm, y_nm = under_nm.fit_resample(X_train,y_train)\n",
    "counter = Counter(y_nm)\n",
    "print(pre_counter)\n",
    "print(counter)\n"
   ]
  },
  {
   "cell_type": "code",
   "execution_count": 47,
   "metadata": {},
   "outputs": [
    {
     "name": "stdout",
     "output_type": "stream",
     "text": [
      "Counter({1: 2704, 0: 34})\n",
      "Counter({1: 188, 0: 34})\n"
     ]
    }
   ],
   "source": [
    "under_cnnb = CNNb()\n",
    "X_cnnb, y_cnnb = under_cnnb.fit_resample(X_train,y_train)\n",
    "counter = Counter(y_cnnb)\n",
    "print(pre_counter)\n",
    "print(counter)"
   ]
  },
  {
   "cell_type": "code",
   "execution_count": 48,
   "metadata": {},
   "outputs": [
    {
     "name": "stdout",
     "output_type": "stream",
     "text": [
      "Counter({1: 2704, 0: 34})\n",
      "Counter({1: 2704, 0: 2704})\n"
     ]
    }
   ],
   "source": [
    "over_sm = SMOTE()\n",
    "X_sm, y_sm = over_sm.fit_resample(X_train,y_train)\n",
    "counter = Counter(y_sm)\n",
    "print(pre_counter)\n",
    "print(counter)"
   ]
  },
  {
   "cell_type": "code",
   "execution_count": 49,
   "metadata": {},
   "outputs": [
    {
     "name": "stdout",
     "output_type": "stream",
     "text": [
      "Counter({1: 2704, 0: 34})\n",
      "Counter({1: 2704, 0: 2690})\n"
     ]
    }
   ],
   "source": [
    "over_ada = ADASYN()\n",
    "X_ada, y_ada = over_ada.fit_resample(X_train,y_train)\n",
    "counter = Counter(y_ada)\n",
    "print(pre_counter)\n",
    "print(counter)"
   ]
  },
  {
   "cell_type": "code",
   "execution_count": 50,
   "metadata": {},
   "outputs": [
    {
     "data": {
      "text/plain": [
       "(2738, 144)"
      ]
     },
     "execution_count": 50,
     "metadata": {},
     "output_type": "execute_result"
    }
   ],
   "source": [
    "X_train.shape"
   ]
  },
  {
   "cell_type": "code",
   "execution_count": 51,
   "metadata": {},
   "outputs": [
    {
     "data": {
      "text/plain": [
       "(2738,)"
      ]
     },
     "execution_count": 51,
     "metadata": {},
     "output_type": "execute_result"
    }
   ],
   "source": [
    "y_train.shape"
   ]
  },
  {
   "cell_type": "code",
   "execution_count": 58,
   "metadata": {},
   "outputs": [],
   "source": [
    "pca = PCA(0.95)\n",
    "X_pca = pca.fit_transform(X_train)\n"
   ]
  },
  {
   "cell_type": "code",
   "execution_count": 59,
   "metadata": {},
   "outputs": [
    {
     "data": {
      "text/plain": [
       "(2738, 2)"
      ]
     },
     "execution_count": 59,
     "metadata": {},
     "output_type": "execute_result"
    }
   ],
   "source": [
    "X_pca.shape"
   ]
  },
  {
   "cell_type": "code",
   "execution_count": 60,
   "metadata": {},
   "outputs": [
    {
     "name": "stdout",
     "output_type": "stream",
     "text": [
      "[0.97518248 0.89343066 0.95912409 0.9751462  0.92105263]\n",
      "[0.57142857 0.57142857 0.42857143 0.69230769 0.53846154]\n",
      "[0.77777778 0.82222222 0.79545455 0.72727273 0.72727273]\n",
      "[0.94717331 0.98053753 0.97775718 0.95829472 0.96753247]\n",
      "[0.97445255 0.98357664 0.97445255 0.97440585 0.976234  ]\n"
     ]
    }
   ],
   "source": [
    "xs = [X,X_nm,X_cnnb,X_ada,X_pca]\n",
    "ys = [y,y_nm,y_cnnb,y_ada,y_train]\n",
    "\n",
    "from sklearn.model_selection import cross_val_score\n",
    "from sklearn.tree import DecisionTreeClassifier\n",
    "\n",
    "for i in range(5):\n",
    "    print(cross_val_score(DecisionTreeClassifier(),xs[i],ys[i],cv=5))\n"
   ]
  },
  {
   "cell_type": "code",
   "execution_count": null,
   "metadata": {},
   "outputs": [],
   "source": []
  }
 ],
 "metadata": {
  "kernelspec": {
   "display_name": "Python 3.10.5 64-bit",
   "language": "python",
   "name": "python3"
  },
  "language_info": {
   "codemirror_mode": {
    "name": "ipython",
    "version": 3
   },
   "file_extension": ".py",
   "mimetype": "text/x-python",
   "name": "python",
   "nbconvert_exporter": "python",
   "pygments_lexer": "ipython3",
   "version": "3.10.5"
  },
  "orig_nbformat": 4,
  "vscode": {
   "interpreter": {
    "hash": "369f2c481f4da34e4445cda3fffd2e751bd1c4d706f27375911949ba6bb62e1c"
   }
  }
 },
 "nbformat": 4,
 "nbformat_minor": 2
}
