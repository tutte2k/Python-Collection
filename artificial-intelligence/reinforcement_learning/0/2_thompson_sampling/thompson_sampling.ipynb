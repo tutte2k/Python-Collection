{
 "cells": [
  {
   "cell_type": "code",
   "execution_count": 1,
   "metadata": {},
   "outputs": [],
   "source": [
    "import numpy as np\n",
    "import pandas as pd\n",
    "import matplotlib.pyplot as plt\n",
    "import math\n",
    "import random\n",
    "data = pd.read_csv('Ads_CTR_Optimisation.csv')\n",
    "import collections\n"
   ]
  },
  {
   "cell_type": "code",
   "execution_count": 2,
   "metadata": {},
   "outputs": [
    {
     "data": {
      "image/png": "[encoded data removed]",
      "text/plain": [
       "<Figure size 432x288 with 1 Axes>"
      ]
     },
     "metadata": {
      "needs_background": "light"
     },
     "output_type": "display_data"
    }
   ],
   "source": [
    "N = 10000\n",
    "d = 10\n",
    "ads_selected = []\n",
    "num_of_rew1 = [0] * d\n",
    "num_of_rew0 = [0] * d\n",
    "total_reward = 0\n",
    "\n",
    "for n in range(0, N):\n",
    "    ad = 0\n",
    "    max_count = 0\n",
    "    for i in range(0, d):\n",
    "        random_beta = random.betavariate(num_of_rew1[i] + 1, num_of_rew0[i] + 1)\n",
    "        if random_beta > max_count:\n",
    "            max_count = random_beta\n",
    "            ad = i\n",
    "    ads_selected.append(ad)\n",
    "    reward = data.values[n, ad]\n",
    "    if reward == 1:\n",
    "        num_of_rew1[ad] = num_of_rew1[ad] + 1\n",
    "    else:\n",
    "        num_of_rew0[ad] =  num_of_rew0[ad] + 1\n",
    "    total_reward = total_reward + reward\n",
    "\n",
    "    \n",
    "    \n",
    "plt.hist(ads_selected)\n",
    "plt.title('Histogram for the most liked ad')\n",
    "plt.xlabel('ads')\n",
    "plt.xticks(ads_selected)\n",
    "plt.ylabel('Number of times each ad was selected')\n",
    "plt.show()"
   ]
  }
 ],
 "metadata": {
  "kernelspec": {
   "display_name": "Python 3.10.5 64-bit",
   "language": "python",
   "name": "python3"
  },
  "language_info": {
   "codemirror_mode": {
    "name": "ipython",
    "version": 3
   },
   "file_extension": ".py",
   "mimetype": "text/x-python",
   "name": "python",
   "nbconvert_exporter": "python",
   "pygments_lexer": "ipython3",
   "version": "3.10.5"
  },
  "orig_nbformat": 4,
  "vscode": {
   "interpreter": {
    "hash": "369f2c481f4da34e4445cda3fffd2e751bd1c4d706f27375911949ba6bb62e1c"
   }
  }
 },
 "nbformat": 4,
 "nbformat_minor": 2
}
